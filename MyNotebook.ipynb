{
 "cells": [
  {
   "cell_type": "markdown",
   "id": "ed011485-ec0e-4d7a-8263-397b26f86546",
   "metadata": {},
   "source": [
    "# **My practica en Jupyter**\n",
    "## *El uso de code y Markdown*\n",
    "\n",
    "Todo lo que necesito saber para el uso de Jupyter notebook."
   ]
  },
  {
   "cell_type": "markdown",
   "id": "f33f9c19-8935-4c1c-a62c-d2847b7930ed",
   "metadata": {},
   "source": [
    "## Celdas Markdown\n",
    "    Se escribe texto formateado o incluir enlaces, listas, encabezados de secciones, tablas, ecuaciones, imágenes u otro contenido multimedia.\n",
    "\n",
    "* listas\n",
    "* enlaces\n",
    "* etc.\n"
   ]
  },
  {
   "cell_type": "markdown",
   "id": "9cb07eb4-a3e4-47c6-8896-80a69d9ccb7c",
   "metadata": {},
   "source": [
    "## Definir las variables x e y\n",
    "\n",
    "Definimos las **variables** `x` e `y`, donde `y` es el [seno](https://es.wikipedia.org/wiki/Seno_(trigonometria)) de `x`:"
   ]
  },
  {
   "cell_type": "markdown",
   "id": "7f34c4a0-61dd-4dc9-a28c-6edc68a50daf",
   "metadata": {},
   "source": [
    "**y = seno(x)**"
   ]
  },
  {
   "cell_type": "markdown",
   "id": "0135ad1a-013e-432e-a648-bde7c19338ca",
   "metadata": {},
   "source": [
    "Si calculamos esta función, podemos compilar una tabla con valores de `x` e `y`, con:\n",
    "\n",
    "- Una hilera de cabecera\n",
    "- Tres hileras de datos\n",
    "\n",
    "*Aquí la tabla formateada:*\n",
    "\n",
    "| x | y |\n",
    "|---|---|\n",
    "|0.0|0.0|\n",
    "|0.1|0.09983342|\n",
    "|0.2|0.19866933|\n"
   ]
  },
  {
   "cell_type": "code",
   "execution_count": 1,
   "id": "6d58a026-163d-45e1-8e87-9612aadc539f",
   "metadata": {},
   "outputs": [
    {
     "data": {
      "text/plain": [
       "3"
      ]
     },
     "execution_count": 1,
     "metadata": {},
     "output_type": "execute_result"
    }
   ],
   "source": [
    "1 + 2 "
   ]
  },
  {
   "cell_type": "code",
   "execution_count": 7,
   "id": "6e640377-9509-48e7-afdb-c48bc2f0d2ca",
   "metadata": {},
   "outputs": [
    {
     "name": "stdout",
     "output_type": "stream",
     "text": [
      " El volumen de la unidad C no tiene etiqueta.\n",
      " El n£mero de serie del volumen es: 4AB2-0BFD\n",
      "\n",
      " Directorio de C:\\Users\\KALVEIRO\\repogit\\myprueba1\n",
      "\n",
      "11/05/2025  01:21 a. m.    <DIR>          .\n",
      "11/05/2025  01:21 a. m.    <DIR>          ..\n",
      "11/05/2025  01:11 a. m.    <DIR>          .ipynb_checkpoints\n",
      "09/05/2025  02:58 a. m.                78 myfichero1.txt\n",
      "11/05/2025  12:50 a. m.               195 myfichero2.txt\n",
      "11/05/2025  12:25 a. m.               300 myfichero3.txt\n",
      "11/05/2025  01:21 a. m.             1,534 Untitled.ipynb\n",
      "               4 archivos          2,107 bytes\n",
      "               3 dirs  886,728,114,176 bytes libres\n"
     ]
    }
   ],
   "source": [
    "ls"
   ]
  }
 ],
 "metadata": {
  "kernelspec": {
   "display_name": "Python [conda env:jupyterlab] *",
   "language": "python",
   "name": "conda-env-jupyterlab-py"
  },
  "language_info": {
   "codemirror_mode": {
    "name": "ipython",
    "version": 3
   },
   "file_extension": ".py",
   "mimetype": "text/x-python",
   "name": "python",
   "nbconvert_exporter": "python",
   "pygments_lexer": "ipython3",
   "version": "3.12.10"
  }
 },
 "nbformat": 4,
 "nbformat_minor": 5
}
