{
 "cells": [
  {
   "cell_type": "markdown",
   "id": "f33f9c19-8935-4c1c-a62c-d2847b7930ed",
   "metadata": {},
   "source": [
    "Titulo\n",
    "\n",
    "* Punto 1\n",
    "* Punto 2\n"
   ]
  },
  {
   "cell_type": "code",
   "execution_count": 1,
   "id": "6d58a026-163d-45e1-8e87-9612aadc539f",
   "metadata": {},
   "outputs": [
    {
     "data": {
      "text/plain": [
       "3"
      ]
     },
     "execution_count": 1,
     "metadata": {},
     "output_type": "execute_result"
    }
   ],
   "source": [
    "1 + 2 "
   ]
  },
  {
   "cell_type": "code",
   "execution_count": 3,
   "id": "70441191-0568-4bc0-a9c0-1e9a8a64e591",
   "metadata": {},
   "outputs": [
    {
     "data": {
      "text/plain": [
       "\u001b[31mRepr:\u001b[39m <alias ls for 'dir /on'>"
      ]
     },
     "metadata": {},
     "output_type": "display_data"
    }
   ],
   "source": [
    "?ls"
   ]
  },
  {
   "cell_type": "code",
   "execution_count": 7,
   "id": "6e640377-9509-48e7-afdb-c48bc2f0d2ca",
   "metadata": {},
   "outputs": [
    {
     "name": "stdout",
     "output_type": "stream",
     "text": [
      " El volumen de la unidad C no tiene etiqueta.\n",
      " El n£mero de serie del volumen es: 4AB2-0BFD\n",
      "\n",
      " Directorio de C:\\Users\\KALVEIRO\\repogit\\myprueba1\n",
      "\n",
      "11/05/2025  01:21 a. m.    <DIR>          .\n",
      "11/05/2025  01:21 a. m.    <DIR>          ..\n",
      "11/05/2025  01:11 a. m.    <DIR>          .ipynb_checkpoints\n",
      "09/05/2025  02:58 a. m.                78 myfichero1.txt\n",
      "11/05/2025  12:50 a. m.               195 myfichero2.txt\n",
      "11/05/2025  12:25 a. m.               300 myfichero3.txt\n",
      "11/05/2025  01:21 a. m.             1,534 Untitled.ipynb\n",
      "               4 archivos          2,107 bytes\n",
      "               3 dirs  886,728,114,176 bytes libres\n"
     ]
    }
   ],
   "source": [
    "ls"
   ]
  },
  {
   "cell_type": "markdown",
   "id": "ed011485-ec0e-4d7a-8263-397b26f86546",
   "metadata": {},
   "source": [
    "# My practica en Jupyter\n",
    "## El uso de code y Markdown\n",
    "\n",
    "Todo lo que necesito saber para el uso de Jupyter notebook"
   ]
  },
  {
   "cell_type": "code",
   "execution_count": null,
   "id": "e08448d5-28bc-431b-aef9-988ba9fe58fd",
   "metadata": {},
   "outputs": [],
   "source": []
  }
 ],
 "metadata": {
  "kernelspec": {
   "display_name": "Python [conda env:jupyterlab] *",
   "language": "python",
   "name": "conda-env-jupyterlab-py"
  },
  "language_info": {
   "codemirror_mode": {
    "name": "ipython",
    "version": 3
   },
   "file_extension": ".py",
   "mimetype": "text/x-python",
   "name": "python",
   "nbconvert_exporter": "python",
   "pygments_lexer": "ipython3",
   "version": "3.12.10"
  }
 },
 "nbformat": 4,
 "nbformat_minor": 5
}
