{
 "cells": [
  {
   "cell_type": "code",
   "execution_count": 4,
   "id": "f49f77ce-a1a9-463c-aa44-b4bb650c0bba",
   "metadata": {},
   "outputs": [],
   "source": [
    "import numpy as np\n",
    "import matplotlib.pyplot as plt"
   ]
  },
  {
   "cell_type": "code",
   "execution_count": 5,
   "id": "3b17590e-49c0-4fbc-a477-675cd185fd89",
   "metadata": {},
   "outputs": [],
   "source": [
    "masa = 47.5\n",
    "edad = 122\n",
    "masa = masa * 2\n",
    "edad = edad - 20"
   ]
  },
  {
   "cell_type": "code",
   "execution_count": 11,
   "id": "904c8bc7-fe8a-4f4c-8712-94317456928f",
   "metadata": {},
   "outputs": [
    {
     "name": "stdout",
     "output_type": "stream",
     "text": [
      "95.0 102 Alberto Rivas\n"
     ]
    }
   ],
   "source": [
    "print(masa,edad,name)"
   ]
  },
  {
   "cell_type": "code",
   "execution_count": 12,
   "id": "7cbfe25e-cbe5-4255-8981-4d3c6dcfe132",
   "metadata": {},
   "outputs": [
    {
     "data": {
      "text/plain": [
       "int"
      ]
     },
     "execution_count": 12,
     "metadata": {},
     "output_type": "execute_result"
    }
   ],
   "source": [
    "type(edad)"
   ]
  },
  {
   "cell_type": "code",
   "execution_count": 10,
   "id": "d571f81f-2648-443b-bcce-eda50c2673c7",
   "metadata": {},
   "outputs": [],
   "source": [
    "name = \"Alberto Rivas\""
   ]
  },
  {
   "cell_type": "code",
   "execution_count": 14,
   "id": "0873aaef-c122-4d3c-95cf-b022f005ccd6",
   "metadata": {},
   "outputs": [],
   "source": [
    "a = np.random.normal(size=(15,2,1))"
   ]
  },
  {
   "cell_type": "code",
   "execution_count": 15,
   "id": "8d616a88-e8d5-40e7-850a-3c8ca256ca07",
   "metadata": {},
   "outputs": [
    {
     "name": "stdout",
     "output_type": "stream",
     "text": [
      "[[[ 1.74763275]\n",
      "  [ 1.6685668 ]]\n",
      "\n",
      " [[-1.47286045]\n",
      "  [ 0.26441015]]\n",
      "\n",
      " [[ 0.13103943]\n",
      "  [-0.5475311 ]]\n",
      "\n",
      " [[-0.55297597]\n",
      "  [-0.5944838 ]]\n",
      "\n",
      " [[ 0.86484463]\n",
      "  [ 1.00908516]]\n",
      "\n",
      " [[-0.82673455]\n",
      "  [-1.96562558]]\n",
      "\n",
      " [[-0.75403383]\n",
      "  [-0.25928689]]\n",
      "\n",
      " [[ 0.16155061]\n",
      "  [ 0.48583741]]\n",
      "\n",
      " [[-0.12186441]\n",
      "  [-0.73069694]]\n",
      "\n",
      " [[-0.91219406]\n",
      "  [ 2.13176987]]\n",
      "\n",
      " [[-0.11163531]\n",
      "  [ 1.0409411 ]]\n",
      "\n",
      " [[-0.12709565]\n",
      "  [-1.35888621]]\n",
      "\n",
      " [[ 0.83088124]\n",
      "  [ 2.58188181]]\n",
      "\n",
      " [[-0.16589008]\n",
      "  [-0.87504598]]\n",
      "\n",
      " [[-2.00889382]\n",
      "  [-0.84098045]]]\n"
     ]
    }
   ],
   "source": [
    "print(a)"
   ]
  },
  {
   "cell_type": "code",
   "execution_count": 16,
   "id": "c456a26d-76c9-44f4-ac41-e53e2351ea89",
   "metadata": {},
   "outputs": [],
   "source": [
    "nombre = \"Carlos Alberto Rivas Garcia\""
   ]
  },
  {
   "cell_type": "code",
   "execution_count": 17,
   "id": "2c2a8d39-7ce9-4311-983c-e5f7006aca8e",
   "metadata": {},
   "outputs": [
    {
     "name": "stdout",
     "output_type": "stream",
     "text": [
      "C\n",
      "Garcia\n",
      "Carlo\n"
     ]
    }
   ],
   "source": [
    "print(nombre[0])\n",
    "print(nombre[-6:])\n",
    "print(nombre[:5])"
   ]
  },
  {
   "cell_type": "code",
   "execution_count": 18,
   "id": "debf5316-b8aa-4558-b5e2-d37fefedd710",
   "metadata": {},
   "outputs": [],
   "source": [
    "data =[\n",
    "    [\"A\",\"B\",\"C\"],\n",
    "    [\"D\",\"E\",\"F\"],\n",
    "    [\"G\",\"H\",\"I\"]\n",
    "]"
   ]
  },
  {
   "cell_type": "code",
   "execution_count": 19,
   "id": "e38d13e9-7318-4a86-bcd9-09d6663fe906",
   "metadata": {},
   "outputs": [
    {
     "name": "stdout",
     "output_type": "stream",
     "text": [
      "[['A', 'B', 'C'], ['D', 'E', 'F'], ['G', 'H', 'I']]\n"
     ]
    }
   ],
   "source": [
    "print(data)"
   ]
  },
  {
   "cell_type": "code",
   "execution_count": 20,
   "id": "e29dfa43-1ae1-424e-8441-3402a63fd8f8",
   "metadata": {},
   "outputs": [],
   "source": [
    "data = np.matrix(data)"
   ]
  },
  {
   "cell_type": "code",
   "execution_count": 21,
   "id": "9e446fc0-71d3-42f6-ad41-2d98a82f1173",
   "metadata": {},
   "outputs": [
    {
     "data": {
      "text/plain": [
       "matrix([['A', 'B', 'C'],\n",
       "        ['D', 'E', 'F'],\n",
       "        ['G', 'H', 'I']], dtype='<U1')"
      ]
     },
     "execution_count": 21,
     "metadata": {},
     "output_type": "execute_result"
    }
   ],
   "source": [
    "data"
   ]
  },
  {
   "cell_type": "code",
   "execution_count": 22,
   "id": "60ee3276-6928-489b-b715-0c76923c9e58",
   "metadata": {},
   "outputs": [
    {
     "name": "stdout",
     "output_type": "stream",
     "text": [
      "[['A' 'B' 'C']\n",
      " ['D' 'E' 'F']\n",
      " ['G' 'H' 'I']]\n",
      "C\n"
     ]
    }
   ],
   "source": [
    "print(data[:,:]) #imprime nuestra matriz data\n",
    "print(data[0,2]) #imprime el elemento de la fila 0, columna 2"
   ]
  },
  {
   "cell_type": "code",
   "execution_count": 23,
   "id": "d2d44f3b-2b73-4038-ae42-3c46a8b631fa",
   "metadata": {},
   "outputs": [
    {
     "data": {
      "text/plain": [
       "(3, 3)"
      ]
     },
     "execution_count": 23,
     "metadata": {},
     "output_type": "execute_result"
    }
   ],
   "source": [
    "np.shape(data)"
   ]
  },
  {
   "cell_type": "code",
   "execution_count": 24,
   "id": "dc52fa4e-c15d-4815-963a-99a6d7c9bb61",
   "metadata": {},
   "outputs": [
    {
     "name": "stdout",
     "output_type": "stream",
     "text": [
      "[[1 2 3]\n",
      " [4 5 6]\n",
      " [7 8 9]]\n",
      "6\n"
     ]
    }
   ],
   "source": [
    "data_n=[\n",
    "    [1,2,3],\n",
    "    [4,5,6],\n",
    "    [7,8,9]\n",
    "]\n",
    "data_n=np.matrix(data_n)\n",
    "print(data_n[:,:])\n",
    "print(data_n[1,2])"
   ]
  },
  {
   "cell_type": "code",
   "execution_count": 25,
   "id": "e788292e-1e1a-4b96-bb6c-4495d79269a3",
   "metadata": {},
   "outputs": [
    {
     "name": "stdout",
     "output_type": "stream",
     "text": [
      "1\n"
     ]
    }
   ],
   "source": [
    "num = np.min(data_n)\n",
    "print(str(num))"
   ]
  },
  {
   "cell_type": "code",
   "execution_count": 26,
   "id": "ff5157e7-dace-4dd3-9dba-2ae0342fb9b2",
   "metadata": {},
   "outputs": [
    {
     "name": "stdout",
     "output_type": "stream",
     "text": [
      "9 es mayor que 5\n",
      "Terminado...\n"
     ]
    }
   ],
   "source": [
    "num = np.max(data_n)\n",
    "if num == 5:\n",
    "    print(str(num),'es igual que 5')\n",
    "elif num > 5: #elif se usa para poner condiciones extra si son necesarias que estas se cumplan!\n",
    "    print(str(num),'es mayor que 5')\n",
    "else:\n",
    "    print(str(num),'es menor que 5')\n",
    "print('Terminado...')"
   ]
  },
  {
   "cell_type": "code",
   "execution_count": 47,
   "id": "88542738-a584-443a-ba3e-5c6924e71b3c",
   "metadata": {},
   "outputs": [
    {
     "data": {
      "image/png": "[encoded data removed]",
      "text/plain": [
       "<Figure size 640x480 with 1 Axes>"
      ]
     },
     "metadata": {},
     "output_type": "display_data"
    }
   ],
   "source": [
    "fig, ax = plt.subplots()\n",
    "ax = plt.plot(a[0, :],color='tomato',linewidth='1.5',linestyle='dashed')\n",
    "plt.xlabel('Eje de las Abscisas')\n",
    "plt.ylabel('Eje de las Ordenadas')\n",
    "plt.title('My primer grafico en Python')\n",
    "plt.show()"
   ]
  },
  {
   "cell_type": "code",
   "execution_count": null,
   "id": "74388cba-fcb5-4ad7-a4ae-e01ad6b4eca1",
   "metadata": {},
   "outputs": [],
   "source": []
  }
 ],
 "metadata": {
  "kernelspec": {
   "display_name": "Python [conda env:jupyterlab] *",
   "language": "python",
   "name": "conda-env-jupyterlab-py"
  },
  "language_info": {
   "codemirror_mode": {
    "name": "ipython",
    "version": 3
   },
   "file_extension": ".py",
   "mimetype": "text/x-python",
   "name": "python",
   "nbconvert_exporter": "python",
   "pygments_lexer": "ipython3",
   "version": "3.12.10"
  }
 },
 "nbformat": 4,
 "nbformat_minor": 5
}
